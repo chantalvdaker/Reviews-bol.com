{
 "cells": [
  {
   "cell_type": "markdown",
   "metadata": {},
   "source": [
    "# Excel laden\n",
    "\n",
    "We beginnen met het inlezen van onze excel dataset."
   ]
  },
  {
   "cell_type": "markdown",
   "metadata": {},
   "source": [
    "# Data importeren"
   ]
  },
  {
   "cell_type": "code",
   "execution_count": 31,
   "metadata": {},
   "outputs": [],
   "source": [
    "#### uitleg waarom pandas library (is super logisch maar moet je wel ff melden, pandas is namelijk bedoeld voor het makkelijk openen en visualiseren van excel / csv bestanden)\n",
    "\n",
    "import pandas as pd\n",
    "\n",
    "df_2019 = pd.read_excel(\"DATA_2019.xlsx\", \n",
    "                   usecols=[\"titel\", \"datum\", \"sterren\",\"review\"], # Selecteer kolommen die je wil laden.\n",
    "                   skiprows=[1])  \n",
    "\n",
    "df_2020 = pd.read_excel(\"DATA_2020.xlsx\", \n",
    "                   usecols=[\"titel\", \"datum\", \"sterren\",\"review\"], # Selecteer kolommen die je wil laden.\n",
    "                   skiprows=[1]) \n",
    "\n",
    "# Sla de rij met alleen \"November\" over."
   ]
  },
  {
   "cell_type": "code",
   "execution_count": 32,
   "metadata": {},
   "outputs": [
    {
     "name": "stdout",
     "output_type": "stream",
     "text": [
      "{'titel': 'Geld terug door een fout van bol.com en Dynalogic', 'datum': Timestamp('2019-03-01 00:00:00'), 'sterren': 2.0, 'review': 'Ik heb een wasmachine besteld, eerst is alles in goede orde ontvangen op het depot , en dan net voor vertrek van de chauffeur is hij in eens beschadigd. Krijg daar netjes een email over, dat de levering niet doorgaat. Krijg geen andere wasmachine, maar mijn geld terug. Moet daar drie werkdagen op wachten. En kan daarna de zelfde wasmachine weer bestellen.\\nWaarom nou zo omslachtig.\\nAls er al betaald is voor de wasmachine. Er zijn nog genoeg van de zelfde op voorraad staat op de site.\\nDus de klant is nu de dupe voor een fout van bol.com en Dynalogic.'}\n"
     ]
    }
   ],
   "source": [
    "## Maak dictionaries ...... uitleg .... best ingewikkeld namelijk dicitonaries dus zou wel ff aangeven waarom je dit gebruikt \n",
    "##(andersom redeneren vanuit theorie) Het komt in iedergeval neer op dat dictionaries chill zijn voor key - value shit en dat je onder 1 key meerdere values kan hebben \n",
    "\n",
    "records_2019 = df_2019.to_dict('records')\n",
    "\n",
    "records_2020 = df_2020.to_dict('records')\n",
    "\n",
    "\n",
    "print(records_2019[0])\n"
   ]
  },
  {
   "cell_type": "code",
   "execution_count": 33,
   "metadata": {},
   "outputs": [
    {
     "name": "stdout",
     "output_type": "stream",
     "text": [
      "{'titel': 'Bol.com in combinatie met Select is…', 'datum': '16-11-2020', 'sterren': 5.0, 'review': 'Bol.com in combinatie met Select is echt super. Altijd snelle levering en gratis verzending. Soms zelfs dezelfde dag nog.'}\n"
     ]
    }
   ],
   "source": [
    "## test print 2020\n",
    "\n",
    "print(records_2020[0])\n"
   ]
  },
  {
   "cell_type": "markdown",
   "metadata": {},
   "source": [
    "# Keywords tellen in gehele databestand = intiële analyse (niet per review, dus dit is niet de analyse die we uiteindelijk gebruikt hebben voor het beantwoorden van de deelvraag)"
   ]
  },
  {
   "cell_type": "code",
   "execution_count": 35,
   "metadata": {},
   "outputs": [],
   "source": [
    "# Zet het aantal keer bezorgd in 'count-bezorg' in dictionary\n",
    "# We gebruiken de stam van bezorging/bezorgen, etc = 'bezorg'\n",
    "for record in records_2019:\n",
    "    review_text = str(record['review'])\n",
    "    record['count-bezorg'] = review_text.lower().count('bezorg')\n",
    "    record['count-product'] = review_text.lower().count('product')\n",
    "    record['count-service'] = review_text.lower().count('service')\n",
    "    record['count-levering'] = review_text.lower().count('levering')\n",
    "    record['lengte-review'] = len(review_text)"
   ]
  },
  {
   "cell_type": "code",
   "execution_count": 36,
   "metadata": {},
   "outputs": [],
   "source": [
    "## zelfde voor 2020\n",
    "for record in records_2020:\n",
    "    review_text = str(record['review'])\n",
    "    record['count-bezorg'] = review_text.lower().count('bezorg')\n",
    "    record['count-product'] = review_text.lower().count('product')\n",
    "    record['count-service'] = review_text.lower().count('service')\n",
    "    record['count-levering'] = review_text.lower().count('levering')\n",
    "    record['lengte-review'] = len(review_text)"
   ]
  },
  {
   "cell_type": "code",
   "execution_count": 37,
   "metadata": {},
   "outputs": [
    {
     "name": "stdout",
     "output_type": "stream",
     "text": [
      "Totaal met het woord bezorg in 2019 is 196\n",
      "Totaal met het woord product in 2019 is 199\n",
      "Totaal met het woord service in 2019 is 449\n",
      "Totaal met het woord levering in 2019 is 220\n"
     ]
    }
   ],
   "source": [
    "# Tellen voor het jaar 2019\n",
    "totaal_bezorg = 0\n",
    "totaal_product = 0\n",
    "totaal_service = 0\n",
    "totaal_levering = 0\n",
    "for record in records_2019:\n",
    "    \n",
    "    totaal_bezorg += record['count-bezorg']\n",
    "    totaal_product += record['count-product']\n",
    "    totaal_service += record['count-service']\n",
    "    totaal_levering += record['count-levering']\n",
    "print('Totaal met het woord bezorg in 2019 is ' + str(totaal_bezorg))\n",
    "print('Totaal met het woord product in 2019 is ' + str(totaal_product))\n",
    "print('Totaal met het woord service in 2019 is ' + str(totaal_service))\n",
    "print('Totaal met het woord levering in 2019 is ' + str(totaal_levering))"
   ]
  },
  {
   "cell_type": "code",
   "execution_count": 38,
   "metadata": {},
   "outputs": [
    {
     "name": "stdout",
     "output_type": "stream",
     "text": [
      "Totaal met het woord bezorg in 2020 is 158\n",
      "Totaal met het woord product in 2020 is 220\n",
      "Totaal met het woord service in 2020 is 450\n",
      "Totaal met het woord levering in 2020 is 173\n"
     ]
    }
   ],
   "source": [
    "# Tellen voor het jaar 2020\n",
    "totaal_bezorg = 0\n",
    "totaal_product = 0\n",
    "totaal_service = 0\n",
    "totaal_levering = 0\n",
    "for record in records_2020:\n",
    "    \n",
    "    totaal_bezorg += record['count-bezorg']\n",
    "    totaal_product += record['count-product']\n",
    "    totaal_service += record['count-service']\n",
    "    totaal_levering += record['count-levering']\n",
    "print('Totaal met het woord bezorg in 2020 is ' + str(totaal_bezorg))\n",
    "print('Totaal met het woord product in 2020 is ' + str(totaal_product))\n",
    "print('Totaal met het woord service in 2020 is ' + str(totaal_service))\n",
    "print('Totaal met het woord levering in 2020 is ' + str(totaal_levering))"
   ]
  },
  {
   "cell_type": "markdown",
   "metadata": {},
   "source": [
    "# H4 gaat over de gemiddelde lengte van de reviews. Hieronder berekenen we die."
   ]
  },
  {
   "cell_type": "code",
   "execution_count": 48,
   "metadata": {},
   "outputs": [
    {
     "name": "stdout",
     "output_type": "stream",
     "text": [
      "Gemiddelde lengte van reviews in 2019 is 283.45706618962436\n"
     ]
    }
   ],
   "source": [
    "total_len_2019 = 0 \n",
    "for record in records_2019:\n",
    "    total_len_2019 += record['lengte-review']\n",
    "mean_len_2019 = total_len_2019/len(records_2019)\n",
    "print('Gemiddelde lengte van reviews in 2019 is ' + str(mean_len_2019))"
   ]
  },
  {
   "cell_type": "code",
   "execution_count": 10,
   "metadata": {
    "scrolled": true
   },
   "outputs": [
    {
     "name": "stdout",
     "output_type": "stream",
     "text": [
      "Gemiddelde lengte van reviews in 2020 is 306.9081934846989\n"
     ]
    }
   ],
   "source": [
    "# H4 gaat over de gemiddelde lengte van de reviews. Hieronder berekenen we die.\n",
    "total_len_2020 = 0 \n",
    "for record in records_2020:\n",
    "    total_len_2020 += record['lengte-review']\n",
    "mean_len_2020 = total_len_2020/len(records_2020)\n",
    "print('Gemiddelde lengte van reviews in 2020 is ' + str(mean_len_2020))"
   ]
  },
  {
   "cell_type": "markdown",
   "metadata": {},
   "source": [
    "# Sterren tellen + verdeling berekenen"
   ]
  },
  {
   "cell_type": "code",
   "execution_count": 11,
   "metadata": {},
   "outputs": [
    {
     "data": {
      "text/html": [
       "<div>\n",
       "<style scoped>\n",
       "    .dataframe tbody tr th:only-of-type {\n",
       "        vertical-align: middle;\n",
       "    }\n",
       "\n",
       "    .dataframe tbody tr th {\n",
       "        vertical-align: top;\n",
       "    }\n",
       "\n",
       "    .dataframe thead th {\n",
       "        text-align: right;\n",
       "    }\n",
       "</style>\n",
       "<table border=\"1\" class=\"dataframe\">\n",
       "  <thead>\n",
       "    <tr style=\"text-align: right;\">\n",
       "      <th></th>\n",
       "      <th>sterren</th>\n",
       "    </tr>\n",
       "  </thead>\n",
       "  <tbody>\n",
       "    <tr>\n",
       "      <th>count</th>\n",
       "      <td>1109.000000</td>\n",
       "    </tr>\n",
       "    <tr>\n",
       "      <th>mean</th>\n",
       "      <td>3.202885</td>\n",
       "    </tr>\n",
       "    <tr>\n",
       "      <th>std</th>\n",
       "      <td>1.823768</td>\n",
       "    </tr>\n",
       "    <tr>\n",
       "      <th>min</th>\n",
       "      <td>1.000000</td>\n",
       "    </tr>\n",
       "    <tr>\n",
       "      <th>25%</th>\n",
       "      <td>1.000000</td>\n",
       "    </tr>\n",
       "    <tr>\n",
       "      <th>50%</th>\n",
       "      <td>4.000000</td>\n",
       "    </tr>\n",
       "    <tr>\n",
       "      <th>75%</th>\n",
       "      <td>5.000000</td>\n",
       "    </tr>\n",
       "    <tr>\n",
       "      <th>max</th>\n",
       "      <td>5.000000</td>\n",
       "    </tr>\n",
       "  </tbody>\n",
       "</table>\n",
       "</div>"
      ],
      "text/plain": [
       "           sterren\n",
       "count  1109.000000\n",
       "mean      3.202885\n",
       "std       1.823768\n",
       "min       1.000000\n",
       "25%       1.000000\n",
       "50%       4.000000\n",
       "75%       5.000000\n",
       "max       5.000000"
      ]
     },
     "execution_count": 11,
     "metadata": {},
     "output_type": "execute_result"
    }
   ],
   "source": [
    "df_2019.describe()"
   ]
  },
  {
   "cell_type": "code",
   "execution_count": 12,
   "metadata": {},
   "outputs": [
    {
     "data": {
      "text/html": [
       "<div>\n",
       "<style scoped>\n",
       "    .dataframe tbody tr th:only-of-type {\n",
       "        vertical-align: middle;\n",
       "    }\n",
       "\n",
       "    .dataframe tbody tr th {\n",
       "        vertical-align: top;\n",
       "    }\n",
       "\n",
       "    .dataframe thead th {\n",
       "        text-align: right;\n",
       "    }\n",
       "</style>\n",
       "<table border=\"1\" class=\"dataframe\">\n",
       "  <thead>\n",
       "    <tr style=\"text-align: right;\">\n",
       "      <th></th>\n",
       "      <th>sterren</th>\n",
       "    </tr>\n",
       "  </thead>\n",
       "  <tbody>\n",
       "    <tr>\n",
       "      <th>count</th>\n",
       "      <td>1002.000000</td>\n",
       "    </tr>\n",
       "    <tr>\n",
       "      <th>mean</th>\n",
       "      <td>2.868263</td>\n",
       "    </tr>\n",
       "    <tr>\n",
       "      <th>std</th>\n",
       "      <td>1.856116</td>\n",
       "    </tr>\n",
       "    <tr>\n",
       "      <th>min</th>\n",
       "      <td>1.000000</td>\n",
       "    </tr>\n",
       "    <tr>\n",
       "      <th>25%</th>\n",
       "      <td>1.000000</td>\n",
       "    </tr>\n",
       "    <tr>\n",
       "      <th>50%</th>\n",
       "      <td>2.000000</td>\n",
       "    </tr>\n",
       "    <tr>\n",
       "      <th>75%</th>\n",
       "      <td>5.000000</td>\n",
       "    </tr>\n",
       "    <tr>\n",
       "      <th>max</th>\n",
       "      <td>5.000000</td>\n",
       "    </tr>\n",
       "  </tbody>\n",
       "</table>\n",
       "</div>"
      ],
      "text/plain": [
       "           sterren\n",
       "count  1002.000000\n",
       "mean      2.868263\n",
       "std       1.856116\n",
       "min       1.000000\n",
       "25%       1.000000\n",
       "50%       2.000000\n",
       "75%       5.000000\n",
       "max       5.000000"
      ]
     },
     "execution_count": 12,
     "metadata": {},
     "output_type": "execute_result"
    }
   ],
   "source": [
    "df_2020.describe()"
   ]
  },
  {
   "cell_type": "code",
   "execution_count": 14,
   "metadata": {},
   "outputs": [
    {
     "data": {
      "text/plain": [
       "5.0    484\n",
       "1.0    401\n",
       "4.0    125\n",
       "2.0     66\n",
       "3.0     33\n",
       "Name: sterren, dtype: int64"
      ]
     },
     "execution_count": 14,
     "metadata": {},
     "output_type": "execute_result"
    }
   ],
   "source": [
    "## Eerst kijken hoe de verdeling is met de functie value_counts()\n",
    "df_2019['sterren'].value_counts()"
   ]
  },
  {
   "cell_type": "code",
   "execution_count": 40,
   "metadata": {},
   "outputs": [
    {
     "data": {
      "image/png": "[encoded data removed]",
      "text/plain": [
       "<Figure size 640x480 with 1 Axes>"
      ]
     },
     "metadata": {},
     "output_type": "display_data"
    },
    {
     "data": {
      "text/plain": [
       "<Figure size 640x480 with 0 Axes>"
      ]
     },
     "metadata": {},
     "output_type": "display_data"
    }
   ],
   "source": [
    "##hierboven valt nu te lezen hoe de sterrenverdeling is, die zetten we in een [list] en maken van deze twee lijsten (labels en waarden) een piechart.\n",
    "\n",
    "import numpy as np\n",
    "import matplotlib.pyplot as plt\n",
    "\n",
    "sterrendata_2019 = [401,66,33,125,484]\n",
    "sterrenlabels = [1,2,3,4,5]\n",
    "plt.pie(sterrendata_2019,labels=sterrenlabels,autopct='%1.1f%%')\n",
    "plt.title('Aantal sterren 2019')\n",
    "plt.show()\n",
    "plt.savefig('Aantal sterren 2019')"
   ]
  },
  {
   "cell_type": "code",
   "execution_count": 41,
   "metadata": {},
   "outputs": [
    {
     "data": {
      "text/plain": [
       "1.0    447\n",
       "5.0    384\n",
       "2.0     74\n",
       "4.0     68\n",
       "3.0     29\n",
       "Name: sterren, dtype: int64"
      ]
     },
     "execution_count": 41,
     "metadata": {},
     "output_type": "execute_result"
    }
   ],
   "source": [
    "##zelfde voor 2020, eerst kijken naar de verdeling \n",
    "df_2020['sterren'].value_counts()\n"
   ]
  },
  {
   "cell_type": "code",
   "execution_count": 73,
   "metadata": {},
   "outputs": [
    {
     "data": {
      "image/png": "[encoded data removed]",
      "text/plain": [
       "<Figure size 432x288 with 1 Axes>"
      ]
     },
     "metadata": {},
     "output_type": "display_data"
    },
    {
     "data": {
      "text/plain": [
       "<Figure size 432x288 with 0 Axes>"
      ]
     },
     "metadata": {},
     "output_type": "display_data"
    }
   ],
   "source": [
    "\n",
    "\n",
    "sterrendata_2020 = [447,74,29,68,384]\n",
    "plt.pie(sterrendata_2020,labels=sterrenlabels,autopct='%1.1f%%')\n",
    "plt.title('Aantal sterren 2020')\n",
    "plt.show()\n",
    "plt.close()\n",
    "plt.savefig('Aantal sterren 2020')"
   ]
  },
  {
   "cell_type": "code",
   "execution_count": 42,
   "metadata": {},
   "outputs": [
    {
     "data": {
      "image/png": "[encoded data removed]",
      "text/plain": [
       "<Figure size 640x480 with 1 Axes>"
      ]
     },
     "metadata": {},
     "output_type": "display_data"
    },
    {
     "data": {
      "text/plain": [
       "<Figure size 640x480 with 0 Axes>"
      ]
     },
     "metadata": {},
     "output_type": "display_data"
    }
   ],
   "source": [
    "import numpy as np\n",
    "import matplotlib.pyplot as plt\n",
    "\n",
    "gemiddelde_sterren_2019 = df_2019['sterren'].mean()\n",
    "gemiddelde_sterren_2020 = df_2020['sterren'].mean()\n",
    "\n",
    "bars = ['Gemiddelde sterren 2019', 'Gemiddelde sterren  2020']\n",
    "plt.bar(bars, [gemiddelde_sterren_2019, gemiddelde_sterren_2020])\n",
    "plt.xticks()\n",
    "plt.show()\n",
    "plt.savefig('barchartsgemiddelden')"
   ]
  },
  {
   "cell_type": "markdown",
   "metadata": {},
   "source": [
    "# Tellen van het aatal reviews dat een bepaald keyword bevat - 2019"
   ]
  },
  {
   "cell_type": "code",
   "execution_count": 18,
   "metadata": {},
   "outputs": [
    {
     "name": "stdout",
     "output_type": "stream",
     "text": [
      "Het aantal reviews met bezorg erin in 2019 is 143\n"
     ]
    }
   ],
   "source": [
    "### Aantal cellen in de kolom review zijn leeg. Normaal gesproken bij data shit zorg je eerst dat je dit soort lege cellen fixt (meestal verwijderen). Echter, in jullie data is het zo dat een lege review kolom vaak wel sterren heeft, dus als je die gaat verwijderen verlies je waardevolle info. Hierom hebben jullie bedacht een for loop te maken met try en except, om zo wanneer de for loop iterate door een lega cel (waar hij normaal gesproken foutmelding geeft) hij weet dat hij hier 'continue' moet doen\n",
    "\n",
    "count_bezorg = 0\n",
    "for i in df_2019['review']:\n",
    "    try:\n",
    "        \n",
    "        if 'bezorg' in i:\n",
    "            count_bezorg += 1\n",
    "    except:\n",
    "        \n",
    "        continue\n",
    "        \n",
    "print('Het aantal reviews met bezorg erin in 2019 is ' + str(count_bezorg))\n"
   ]
  },
  {
   "cell_type": "code",
   "execution_count": 32,
   "metadata": {},
   "outputs": [
    {
     "name": "stdout",
     "output_type": "stream",
     "text": [
      "Het aantal reviews met product erin in 2019 is 134\n"
     ]
    }
   ],
   "source": [
    "count_product = 0\n",
    "for i in df_2019['review']:\n",
    "    try:\n",
    "        \n",
    "        if 'product' in i:\n",
    "            count_product += 1\n",
    "    except:\n",
    "        \n",
    "        continue\n",
    "        \n",
    "print('Het aantal reviews met product erin in 2019 is ' + str(count_product))"
   ]
  },
  {
   "cell_type": "code",
   "execution_count": 33,
   "metadata": {},
   "outputs": [
    {
     "name": "stdout",
     "output_type": "stream",
     "text": [
      "Het aantal reviews met service erin in 2019 is 352\n"
     ]
    }
   ],
   "source": [
    "count_service = 0\n",
    "for i in df_2019['review']:\n",
    "    try:\n",
    "        \n",
    "        if 'service' in i:\n",
    "            count_service += 1\n",
    "    except:\n",
    "        \n",
    "        continue\n",
    "        \n",
    "print('Het aantal reviews met service erin in 2019 is ' + str(count_service))"
   ]
  },
  {
   "cell_type": "code",
   "execution_count": 17,
   "metadata": {},
   "outputs": [
    {
     "name": "stdout",
     "output_type": "stream",
     "text": [
      "Het aantal reviews met levering erin in 2019 is 182\n"
     ]
    }
   ],
   "source": [
    "count_levering = 0\n",
    "for i in df_2019['review']:\n",
    "    try:\n",
    "        \n",
    "        if 'levering' in i:\n",
    "            count_levering += 1\n",
    "    except:\n",
    "        \n",
    "        continue\n",
    "        \n",
    "print('Het aantal reviews met levering erin in 2019 is ' + str(count_levering))"
   ]
  },
  {
   "cell_type": "code",
   "execution_count": 38,
   "metadata": {},
   "outputs": [
    {
     "name": "stdout",
     "output_type": "stream",
     "text": [
      "Het aantal reviews met slecht erin in 2019 is 99\n"
     ]
    }
   ],
   "source": [
    "count_slecht = 0\n",
    "for i in df_2019['review']:\n",
    "    try:\n",
    "        \n",
    "        if 'slecht' in i:\n",
    "            count_slecht += 1\n",
    "    except:\n",
    "        \n",
    "        continue\n",
    "        \n",
    "print('Het aantal reviews met slecht erin in 2019 is ' + str(count_slecht))"
   ]
  },
  {
   "cell_type": "code",
   "execution_count": 64,
   "metadata": {},
   "outputs": [
    {
     "name": "stdout",
     "output_type": "stream",
     "text": [
      "Het aantal reviews met goed erin in 2019 is 287\n"
     ]
    }
   ],
   "source": [
    "count_goed = 0\n",
    "for i in df_2019['review']:\n",
    "    try:\n",
    "        \n",
    "        if 'goed' in i:\n",
    "            count_goed += 1\n",
    "    except:\n",
    "        \n",
    "        continue\n",
    "        \n",
    "print('Het aantal reviews met goed erin in 2019 is ' + str(count_goed))"
   ]
  },
  {
   "cell_type": "code",
   "execution_count": 40,
   "metadata": {},
   "outputs": [
    {
     "name": "stdout",
     "output_type": "stream",
     "text": [
      "Het aantal reviews met nep erin in 2019 is 2\n"
     ]
    }
   ],
   "source": [
    "count_nep = 0\n",
    "for i in df_2019['review']:\n",
    "    try:\n",
    "        \n",
    "        if 'nep' in i:\n",
    "            count_nep += 1\n",
    "    except:\n",
    "        \n",
    "        continue\n",
    "        \n",
    "print('Het aantal reviews met nep erin in 2019 is ' + str(count_nep))"
   ]
  },
  {
   "cell_type": "code",
   "execution_count": 41,
   "metadata": {},
   "outputs": [
    {
     "name": "stdout",
     "output_type": "stream",
     "text": [
      "Het aantal reviews met misleid erin in 2019 is 7\n"
     ]
    }
   ],
   "source": [
    "count_misleid = 0\n",
    "for i in df_2019['review']:\n",
    "    try:\n",
    "        \n",
    "        if 'misleid' in i:\n",
    "            count_misleid += 1\n",
    "    except:\n",
    "        \n",
    "        continue\n",
    "        \n",
    "print('Het aantal reviews met misleid erin in 2019 is ' + str(count_misleid))"
   ]
  },
  {
   "cell_type": "markdown",
   "metadata": {},
   "source": [
    "# Tellen van het aantal reviews dat een bepaald keyword bevat - 2020"
   ]
  },
  {
   "cell_type": "code",
   "execution_count": 22,
   "metadata": {},
   "outputs": [
    {
     "name": "stdout",
     "output_type": "stream",
     "text": [
      "Het aantal reviews met bezorg erin in 2020 is 111\n"
     ]
    }
   ],
   "source": [
    "count_bezorg = 0\n",
    "for i in df_2020['review']:\n",
    "    try:\n",
    "        \n",
    "        if 'bezorg' in i:\n",
    "            count_bezorg += 1\n",
    "    except:\n",
    "        \n",
    "        continue\n",
    "        \n",
    "print('Het aantal reviews met bezorg erin in 2020 is ' + str(count_bezorg))"
   ]
  },
  {
   "cell_type": "code",
   "execution_count": 23,
   "metadata": {},
   "outputs": [
    {
     "name": "stdout",
     "output_type": "stream",
     "text": [
      "Het aantal reviews met product erin in 2020 is 140\n"
     ]
    }
   ],
   "source": [
    "count_product = 0\n",
    "for i in df_2020['review']:\n",
    "    try:\n",
    "        \n",
    "        if 'product' in i:\n",
    "            count_product += 1\n",
    "    except:\n",
    "        \n",
    "        continue\n",
    "        \n",
    "print('Het aantal reviews met product erin in 2020 is ' + str(count_product))"
   ]
  },
  {
   "cell_type": "code",
   "execution_count": 24,
   "metadata": {},
   "outputs": [
    {
     "name": "stdout",
     "output_type": "stream",
     "text": [
      "Het aantal reviews met service erin in 2020 is 340\n"
     ]
    }
   ],
   "source": [
    "count_service = 0\n",
    "for i in df_2020['review']:\n",
    "    try:\n",
    "        \n",
    "        if 'service' in i:\n",
    "            count_service += 1\n",
    "    except:\n",
    "        \n",
    "        continue\n",
    "        \n",
    "print('Het aantal reviews met service erin in 2020 is ' + str(count_service))"
   ]
  },
  {
   "cell_type": "code",
   "execution_count": 25,
   "metadata": {},
   "outputs": [
    {
     "name": "stdout",
     "output_type": "stream",
     "text": [
      "Het aantal reviews met levering erin in 2020 is 142\n"
     ]
    }
   ],
   "source": [
    "count_levering = 0\n",
    "for i in df_2020['review']:\n",
    "    try:\n",
    "        \n",
    "        if 'levering' in i:\n",
    "            count_levering += 1\n",
    "    except:\n",
    "        \n",
    "        continue\n",
    "        \n",
    "print('Het aantal reviews met levering erin in 2020 is ' + str(count_levering))"
   ]
  },
  {
   "cell_type": "code",
   "execution_count": 42,
   "metadata": {},
   "outputs": [
    {
     "name": "stdout",
     "output_type": "stream",
     "text": [
      "Het aantal reviews met slecht erin in 2020 is 107\n"
     ]
    }
   ],
   "source": [
    "count_slecht = 0\n",
    "for i in df_2020['review']:\n",
    "    try:\n",
    "        \n",
    "        if 'slecht' in i:\n",
    "            count_slecht += 1\n",
    "    except:\n",
    "        \n",
    "        continue\n",
    "        \n",
    "print('Het aantal reviews met slecht erin in 2020 is ' + str(count_slecht))"
   ]
  },
  {
   "cell_type": "code",
   "execution_count": 63,
   "metadata": {},
   "outputs": [
    {
     "name": "stdout",
     "output_type": "stream",
     "text": [
      "Het aantal reviews met goed erin in 2020 is 260\n"
     ]
    }
   ],
   "source": [
    "count_goed = 0\n",
    "for i in df_2020['review']:\n",
    "    try:\n",
    "        \n",
    "        if 'goed' in i:\n",
    "            count_goed += 1\n",
    "    except:\n",
    "        \n",
    "        continue\n",
    "        \n",
    "print('Het aantal reviews met goed erin in 2020 is ' + str(count_goed))"
   ]
  },
  {
   "cell_type": "code",
   "execution_count": 44,
   "metadata": {},
   "outputs": [
    {
     "name": "stdout",
     "output_type": "stream",
     "text": [
      "Het aantal reviews met nep erin in 2020 is 2\n"
     ]
    }
   ],
   "source": [
    "count_nep = 0\n",
    "for i in df_2020['review']:\n",
    "    try:\n",
    "        \n",
    "        if 'nep' in i:\n",
    "            count_nep += 1\n",
    "    except:\n",
    "        \n",
    "        continue\n",
    "        \n",
    "print('Het aantal reviews met nep erin in 2020 is ' + str(count_nep))"
   ]
  },
  {
   "cell_type": "code",
   "execution_count": 21,
   "metadata": {},
   "outputs": [
    {
     "name": "stdout",
     "output_type": "stream",
     "text": [
      "Het aantal reviews met misleid erin in 2020 is 6\n"
     ]
    }
   ],
   "source": [
    "count_misleid = 0\n",
    "for i in df_2020['review']:\n",
    "    try:\n",
    "        \n",
    "        if 'misleid' in i:\n",
    "            count_misleid += 1\n",
    "    except:\n",
    "        \n",
    "        continue\n",
    "        \n",
    "print('Het aantal reviews met misleid erin in 2020 is ' + str(count_misleid))"
   ]
  },
  {
   "cell_type": "markdown",
   "metadata": {},
   "source": [
    "# Barchart verdelingen "
   ]
  },
  {
   "cell_type": "code",
   "execution_count": 22,
   "metadata": {},
   "outputs": [],
   "source": [
    "labels_2019 = ['reviews met bezorg', 'reviews met product', 'reviews met service', 'reviews met levering']\n",
    "aantallen_2019 = [143, 134, 352, 182]"
   ]
  },
  {
   "cell_type": "code",
   "execution_count": 27,
   "metadata": {},
   "outputs": [],
   "source": [
    "labels_2020 = ['reviews met bezorg', 'reviews met product', 'reviews met service', 'reviews met levering']\n",
    "aantallen_2020 = [111, 140, 340, 142]"
   ]
  },
  {
   "cell_type": "code",
   "execution_count": 46,
   "metadata": {},
   "outputs": [
    {
     "data": {
      "image/png": "[encoded data removed]",
      "text/plain": [
       "<Figure size 640x480 with 1 Axes>"
      ]
     },
     "metadata": {},
     "output_type": "display_data"
    },
    {
     "data": {
      "text/plain": [
       "<Figure size 640x480 with 0 Axes>"
      ]
     },
     "metadata": {},
     "output_type": "display_data"
    }
   ],
   "source": [
    "#Bar chart voor 2020 maken\n",
    "# Importeren van libraries matplotlib and numpy\n",
    "import matplotlib.pyplot as plt; plt.rcdefaults()\n",
    "import numpy as np\n",
    "import matplotlib.pyplot as plt\n",
    "\n",
    "#Bar chart opmaken \n",
    "y_pos = np.arange(len(labels_2020))\n",
    "plt.bar(y_pos, aantallen_2020, align='center', alpha=0.5)\n",
    "\n",
    "plt.xticks(y_pos, labels_2020, rotation=60)\n",
    "plt.ylabel('Aantal Reviews')\n",
    "plt.title('Onderwerpen reviews Bol.com 2020')\n",
    "plt.show()\n",
    "plt.savefig('img2.jpg', dpi=500)"
   ]
  },
  {
   "cell_type": "code",
   "execution_count": 47,
   "metadata": {},
   "outputs": [
    {
     "data": {
      "image/png": "[encoded data removed]",
      "text/plain": [
       "<Figure size 640x480 with 1 Axes>"
      ]
     },
     "metadata": {},
     "output_type": "display_data"
    },
    {
     "data": {
      "text/plain": [
       "<Figure size 640x480 with 0 Axes>"
      ]
     },
     "metadata": {},
     "output_type": "display_data"
    }
   ],
   "source": [
    "#Bar chart 2019 maken\n",
    "# Importeren van libraries matplotlib and numpy\n",
    "import matplotlib.pyplot as plt; plt.rcdefaults()\n",
    "import numpy as np\n",
    "import matplotlib.pyplot as plt\n",
    "\n",
    "y_pos = np.arange(len(labels_2019))\n",
    "plt.bar(y_pos, aantallen_2019, align='center', alpha=0.5)\n",
    "\n",
    "plt.xticks(y_pos, labels_2019, rotation=60)\n",
    "plt.ylabel('Aantal Reviews')\n",
    "plt.title('Onderwerpen reviews Bol.com 20')\n",
    "plt.show()\n",
    "plt.savefig('img2.jpg', dpi=500)"
   ]
  }
 ],
 "metadata": {
  "kernelspec": {
   "display_name": "Python 3",
   "language": "python",
   "name": "python3"
  },
  "language_info": {
   "codemirror_mode": {
    "name": "ipython",
    "version": 3
   },
   "file_extension": ".py",
   "mimetype": "text/x-python",
   "name": "python",
   "nbconvert_exporter": "python",
   "pygments_lexer": "ipython3",
   "version": "3.8.3"
  }
 },
 "nbformat": 4,
 "nbformat_minor": 2
}
